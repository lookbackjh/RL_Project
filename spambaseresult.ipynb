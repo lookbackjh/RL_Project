{
 "cells": [
  {
   "cell_type": "code",
   "execution_count": 41,
   "metadata": {},
   "outputs": [],
   "source": [
    "# this is a code for testing the RL based Feature Selection method\n",
    "from src.data.twomoon import Twomoon_synthetic\n",
    "from src.model.rl import FeatureSelection\n",
    "from src.model.new_try import FeatureSelection_Backward\n",
    "import argparse\n",
    "from src.data.datawrapper import DataWrapper\n",
    "import numpy as np\n",
    "from sklearn.model_selection import train_test_split\n",
    "parser = argparse.ArgumentParser(description='RL based Feature Selection')\n",
    "#parser.add_argument('--seed', type=int, default=12345, help='random seed')\n",
    "\n",
    "parser.add_argument('--episode_number', type=int, default=10000, help='number of episodes')\n",
    "parser.add_argument('--alpha', type=float, default=0.1, help='learning rate')\n",
    "parser.add_argument('--gamma', type=float, default=0.3, help='discount factor')\n",
    "parser.add_argument('--epsilon', type=float, default=0.1, help='epsilon greedy')\n",
    "parser.add_argument('--predefined_reward', type=bool, default=False, help='predefined reward')\n",
    "parser.add_argument('--correlation_loss_coefficient', type=float, default=0.01, help='correlation loss coefficient')\n",
    "parser.add_argument('--datatype', type=str, default=\"spambase\", help='arcene twomoon, spambase available')\n",
    "parser.add_argument('--worsening_count', type=int, default=5, help='worsening count')   \n",
    "args = parser.parse_args(\"\")\n",
    "X,Y=DataWrapper(args).get_data()"
   ]
  },
  {
   "cell_type": "code",
   "execution_count": 42,
   "metadata": {},
   "outputs": [],
   "source": [
    "# SVC\n",
    "from sklearn.svm import SVC\n",
    "from sklearn.metrics import accuracy_score\n",
    "from sklearn.model_selection import train_test_split\n",
    "\n",
    "\n",
    "svc=SVC(kernel='rbf',C=5)"
   ]
  },
  {
   "cell_type": "markdown",
   "metadata": {},
   "source": [
    "### original"
   ]
  },
  {
   "cell_type": "code",
   "execution_count": 43,
   "metadata": {},
   "outputs": [
    {
     "name": "stdout",
     "output_type": "stream",
     "text": [
      "0.7592034757422159\n",
      "0.8710934105720493\n",
      "0.8977262853005068\n",
      "0.9078204199855177\n",
      "0.9180304127443881\n",
      "0.9258363504706736\n"
     ]
    }
   ],
   "source": [
    "import json\n",
    "# read json file\n",
    "with open('results/spambase_predef_False_alpha_0.1_gamma_0.3_eps_0.1_cor_0.01.json') as json_file:\n",
    "    data = json.load(json_file)\n",
    "\n",
    "\n",
    "data['feature order']\n",
    "top_1=data['feature order'][:1]\n",
    "top_5=data['feature order'][:5]\n",
    "top_10=data['feature order'][:10]\n",
    "top_15=data['feature order'][:15]\n",
    "top_20=data['feature order'][:20]\n",
    "top_30=data['feature order'][:30]\n",
    "top_50=data['feature order'][:50]\n",
    "\n",
    "original_acc=[]\n",
    "\n",
    "for i in [top_1,top_5,top_10,top_15,top_20,top_30]:\n",
    "    X_new=X[:,i]\n",
    "    # 5fold cross validation\n",
    "    acc=[]\n",
    "    for j in range(50):\n",
    "        X_train, X_test, y_train, y_test = train_test_split(X_new, Y, test_size=0.3, random_state=j)\n",
    "        svc.fit(X_train,y_train)\n",
    "        y_pred=svc.predict(X_test)\n",
    "        acc.append(accuracy_score(y_test,y_pred))\n",
    "    print(np.mean(acc))\n",
    "    original_acc.append(np.mean(acc))\n"
   ]
  },
  {
   "cell_type": "markdown",
   "metadata": {},
   "source": [
    "### original + correlation coef"
   ]
  },
  {
   "cell_type": "code",
   "execution_count": 44,
   "metadata": {},
   "outputs": [
    {
     "name": "stdout",
     "output_type": "stream",
     "text": [
      "0.7878493845039826\n",
      "0.8870528602461983\n",
      "0.9025923244026068\n",
      "0.9126719768283853\n",
      "0.9179435191889934\n",
      "0.9289790007241132\n"
     ]
    }
   ],
   "source": [
    "import json\n",
    "# read json file\n",
    "with open('results/spambase_predef_True_alpha_0.1_gamma_0.3_eps_0.1_cor_0.01.json') as json_file:\n",
    "    data = json.load(json_file)\n",
    "\n",
    "\n",
    "data['feature order']\n",
    "top_1=data['feature order'][:1]\n",
    "top_5=data['feature order'][:5]\n",
    "top_10=data['feature order'][:10]\n",
    "top_15=data['feature order'][:15]\n",
    "top_20=data['feature order'][:20]\n",
    "top_30=data['feature order'][:30]\n",
    "top_50=data['feature order'][:50]\n",
    "\n",
    "custom_acc=[]\n",
    "\n",
    "for i in [top_1,top_5,top_10,top_15,top_20,top_30]:\n",
    "    X_new=X[:,i]\n",
    "    # 5fold cross validation\n",
    "    acc=[]\n",
    "    for j in range(50):\n",
    "        X_train, X_test, y_train, y_test = train_test_split(X_new, Y, test_size=0.3, random_state=j)\n",
    "        svc.fit(X_train,y_train)\n",
    "        y_pred=svc.predict(X_test)\n",
    "        acc.append(accuracy_score(y_test,y_pred))\n",
    "    print(np.mean(acc))\n",
    "    custom_acc.append(np.mean(acc))"
   ]
  },
  {
   "cell_type": "markdown",
   "metadata": {},
   "source": [
    "### Backward"
   ]
  },
  {
   "cell_type": "code",
   "execution_count": 45,
   "metadata": {},
   "outputs": [
    {
     "name": "stdout",
     "output_type": "stream",
     "text": [
      "0.7285155684286749\n",
      "0.7605648081100652\n",
      "0.7695582910934106\n",
      "0.7732223026792181\n",
      "0.7755104996379434\n",
      "0.7798841419261404\n"
     ]
    }
   ],
   "source": [
    "#train_test_split\n",
    "from sklearn.model_selection import train_test_split\n",
    "import json\n",
    "# read json file\n",
    "with open('results/spambase_alpha_0.1_gamma_0.3_eps_0.3_backward_True_tau_0.001_cor_0.001_custom_False.json') as json_file:\n",
    "    data = json.load(json_file)\n",
    "\n",
    "# BAckward\n",
    "\n",
    "data_back=data['feature_order']\n",
    "top_1=data_back[:1]\n",
    "top_5=data_back[:5]\n",
    "top_10=data_back[:10]\n",
    "top_15=data_back[:15]\n",
    "top_20=data_back[:20]\n",
    "top_30=data_back[:30]\n",
    "#top_50=data_back[:50]\n",
    "\n",
    "backward_acc=[]\n",
    "\n",
    "for i in [top_1,top_5,top_10,top_15,top_20,top_30]:\n",
    "    # 5fold cross validation\n",
    "    acc=[]\n",
    "    for j in range(50):\n",
    "        X_train, X_test, y_train, y_test = train_test_split(X, Y, test_size=0.3, random_state=j)\n",
    "        X_train=X_train[:,i]\n",
    "        svc.fit(X_train,y_train)\n",
    "        X_test=X_test[:,i]\n",
    "        y_pred=svc.predict(X_test)\n",
    "        acc.append(accuracy_score(y_test,y_pred))\n",
    "    print(np.mean(acc))\n",
    "    backward_acc.append(np.mean(acc))"
   ]
  },
  {
   "cell_type": "markdown",
   "metadata": {},
   "source": [
    "### Backwar + corr coef"
   ]
  },
  {
   "cell_type": "code",
   "execution_count": 46,
   "metadata": {},
   "outputs": [
    {
     "name": "stdout",
     "output_type": "stream",
     "text": [
      "0.7285155684286749\n",
      "0.7605792903692976\n",
      "0.7706444605358435\n",
      "0.7750615496017378\n",
      "0.7790731354091238\n",
      "0.7829109341057204\n"
     ]
    }
   ],
   "source": [
    "#train_test_split\n",
    "from sklearn.model_selection import train_test_split\n",
    "import json\n",
    "# read json file\n",
    "with open('results/spambase_alpha_0.1_gamma_0.3_eps_0.3_backward_True_tau_0.001_cor_0.001_custom_True.json') as json_file:\n",
    "    data = json.load(json_file)\n",
    "\n",
    "# BAckward\n",
    "\n",
    "data_back_corr=data['feature_order']\n",
    "top_1=data_back_corr[:1]\n",
    "top_5=data_back_corr[:5]\n",
    "top_10=data_back_corr[:10]\n",
    "top_15=data_back_corr[:15]\n",
    "top_20=data_back_corr[:20]\n",
    "top_30=data_back_corr[:30]\n",
    "#top_50=data_back[:50]\n",
    "\n",
    "backward_cor_acc=[]\n",
    "\n",
    "for i in [top_1,top_5,top_10,top_15,top_20,top_30]:\n",
    "    # 5fold cross validation\n",
    "    acc=[]\n",
    "    for j in range(50):\n",
    "        X_train, X_test, y_train, y_test = train_test_split(X, Y, test_size=0.3, random_state=j)\n",
    "        X_train=X_train[:,i]\n",
    "        svc.fit(X_train,y_train)\n",
    "        X_test=X_test[:,i]\n",
    "        y_pred=svc.predict(X_test)\n",
    "        acc.append(accuracy_score(y_test,y_pred))\n",
    "    print(np.mean(acc))\n",
    "    backward_cor_acc.append(np.mean(acc))"
   ]
  },
  {
   "cell_type": "markdown",
   "metadata": {},
   "source": [
    "## Baseline"
   ]
  },
  {
   "cell_type": "code",
   "execution_count": 47,
   "metadata": {},
   "outputs": [
    {
     "name": "stdout",
     "output_type": "stream",
     "text": [
      "0.6036640115858074\n",
      "0.5875887038377987\n",
      "0.5965821868211441\n",
      "0.5847936278059378\n",
      "0.5982766111513396\n",
      "0.6299782766111514\n"
     ]
    }
   ],
   "source": [
    "# random selection\n",
    "import random\n",
    "random_acc=[]\n",
    "\n",
    "for i in [1,5,10,15,20,30]:\n",
    "    # 5fold cross validation\n",
    "    acc=[]\n",
    "    for j in range(50):\n",
    "        X_train, X_test, y_train, y_test = train_test_split(X, Y, test_size=0.3, random_state=j)\n",
    "        idxs=random.sample(range(0, 57), i)\n",
    "        X_train=X_train[:,idxs]\n",
    "        svc.fit(X_train,y_train)\n",
    "        X_test=X_test[:,idxs]\n",
    "        y_pred=svc.predict(X_test)\n",
    "        acc.append(accuracy_score(y_test,y_pred))\n",
    "    print(np.mean(acc))\n",
    "    random_acc.append(np.mean(acc))"
   ]
  },
  {
   "cell_type": "markdown",
   "metadata": {},
   "source": [
    "## SEFS"
   ]
  },
  {
   "cell_type": "code",
   "execution_count": 48,
   "metadata": {},
   "outputs": [
    {
     "data": {
      "text/plain": [
       "array([1, 2, 0])"
      ]
     },
     "execution_count": 48,
     "metadata": {},
     "output_type": "execute_result"
    }
   ],
   "source": [
    "a=[1,6,3]\n",
    "np.argsort(a)[::-1]"
   ]
  },
  {
   "cell_type": "code",
   "execution_count": 49,
   "metadata": {},
   "outputs": [
    {
     "data": {
      "text/plain": [
       "<matplotlib.legend.Legend at 0x7f5112b73ac0>"
      ]
     },
     "execution_count": 49,
     "metadata": {},
     "output_type": "execute_result"
    },
    {
     "data": {
      "image/png": "[encoded data removed]",
      "text/plain": [
       "<Figure size 640x480 with 1 Axes>"
      ]
     },
     "metadata": {},
     "output_type": "display_data"
    }
   ],
   "source": [
    "from matplotlib import pyplot as plt\n",
    "plt.plot([1,5,10,15,20,30],original_acc[:],label='original')\n",
    "plt.plot([1,5,10,15,20,30],custom_acc[:],label='custom : correlation coefficient:0.01')\n",
    "plt.plot([1,5,10,15,20,30],backward_acc,label='backward')\n",
    "plt.plot([1,5,10,15,20,30],backward_cor_acc,label='backward : correlation coefficient:0.01')\n",
    "#plt.plot([1,5,10,15,20,30],sefs_acc,label='sefs')\n",
    "plt.plot([1,5,10,15,20,30],random_acc,label='random')\n",
    "plt.xlabel('number of selected features')\n",
    "plt.ylabel('accuracy')\n",
    "plt.title('spambase')\n",
    "plt.legend()\n"
   ]
  }
 ],
 "metadata": {
  "kernelspec": {
   "display_name": ".venv",
   "language": "python",
   "name": "python3"
  },
  "language_info": {
   "codemirror_mode": {
    "name": "ipython",
    "version": 3
   },
   "file_extension": ".py",
   "mimetype": "text/x-python",
   "name": "python",
   "nbconvert_exporter": "python",
   "pygments_lexer": "ipython3",
   "version": "3.10.12"
  }
 },
 "nbformat": 4,
 "nbformat_minor": 2
}
