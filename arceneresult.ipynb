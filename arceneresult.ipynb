{
 "cells": [
  {
   "cell_type": "code",
   "execution_count": 4,
   "metadata": {},
   "outputs": [],
   "source": [
    "# this is a code for testing the RL based Feature Selection method\n",
    "from src.data.twomoon import Twomoon_synthetic\n",
    "from src.model.rl import FeatureSelection\n",
    "from src.model.new_try import FeatureSelection_Backward\n",
    "import argparse\n",
    "from src.data.datawrapper import DataWrapper\n",
    "import numpy as np\n",
    "from sklearn.model_selection import train_test_split\n",
    "parser = argparse.ArgumentParser(description='RL based Feature Selection')\n",
    "#parser.add_argument('--seed', type=int, default=12345, help='random seed')\n",
    "\n",
    "parser.add_argument('--episode_number', type=int, default=10000, help='number of episodes')\n",
    "parser.add_argument('--alpha', type=float, default=0.1, help='learning rate')\n",
    "parser.add_argument('--gamma', type=float, default=0.3, help='discount factor')\n",
    "parser.add_argument('--epsilon', type=float, default=0.1, help='epsilon greedy')\n",
    "parser.add_argument('--predefined_reward', type=bool, default=False, help='predefined reward')\n",
    "parser.add_argument('--correlation_loss_coefficient', type=float, default=0.01, help='correlation loss coefficient')\n",
    "parser.add_argument('--datatype', type=str, default=\"arcene\", help='arcene twomoon, spambase available')\n",
    "parser.add_argument('--worsening_count', type=int, default=5, help='worsening count')   \n",
    "args = parser.parse_args(\"\")\n",
    "X,Y=DataWrapper(args).get_data()"
   ]
  },
  {
   "cell_type": "markdown",
   "metadata": {},
   "source": [
    "## Original result "
   ]
  },
  {
   "cell_type": "markdown",
   "metadata": {},
   "source": [
    "### 1. arcene"
   ]
  },
  {
   "cell_type": "code",
   "execution_count": 5,
   "metadata": {},
   "outputs": [],
   "source": [
    "import json\n",
    "# read json file\n",
    "with open('results/arcene_predef_False_alpha_0.1_gamma_0.3_eps_0.1_cor_0.01.json') as json_file:\n",
    "    data = json.load(json_file)\n"
   ]
  },
  {
   "cell_type": "code",
   "execution_count": 6,
   "metadata": {},
   "outputs": [],
   "source": [
    "# SVC\n",
    "from sklearn.svm import SVC\n",
    "from sklearn.metrics import accuracy_score\n",
    "from sklearn.model_selection import train_test_split\n",
    "\n",
    "\n",
    "svc=SVC(kernel='rbf',C=5)"
   ]
  },
  {
   "cell_type": "code",
   "execution_count": 7,
   "metadata": {},
   "outputs": [],
   "source": [
    "\n",
    "data['feature order']\n",
    "top_1=data['feature order'][:1]\n",
    "top_5=data['feature order'][:5]\n",
    "top_10=data['feature order'][:10]\n",
    "top_15=data['feature order'][:15]\n",
    "top_20=data['feature order'][:20]\n",
    "top_30=data['feature order'][:30]\n",
    "top_50=data['feature order'][:50]\n",
    "top_70=data['feature order'][:70]\n",
    "\n",
    "top_100=data['feature order'][:100]\n",
    "top_200=data['feature order'][:200]\n",
    "\n",
    "\n",
    "origianl_acc=[]\n",
    "for i in [top_1,top_5,top_10,top_15,top_20,top_30,top_50,top_70,top_100,top_200]:\n",
    "    X_new=X[:,i]\n",
    "    # 5fold cross validation\n",
    "    acc_original_arcene=[]\n",
    "    \n",
    "    for j in range(500):\n",
    "        X_train, X_test, y_train, y_test = train_test_split(X_new, Y, test_size=0.3, random_state=j)\n",
    "        svc.fit(X_train,y_train)\n",
    "        y_pred=svc.predict(X_test)\n",
    "        acc_original_arcene.append(accuracy_score(y_test,y_pred))\n",
    "    origianl_acc.append(np.mean(acc_original_arcene))"
   ]
  },
  {
   "cell_type": "markdown",
   "metadata": {},
   "source": [
    "## Corrcoef result\n"
   ]
  },
  {
   "cell_type": "code",
   "execution_count": 8,
   "metadata": {},
   "outputs": [],
   "source": [
    "import json\n",
    "# read json file\n",
    "with open('results/arcene_predef_True_alpha_0.1_gamma_0.3_eps_0.1_cor_0.01.json') as json_file:\n",
    "    data_custom = json.load(json_file)"
   ]
  },
  {
   "cell_type": "code",
   "execution_count": 9,
   "metadata": {},
   "outputs": [
    {
     "name": "stdout",
     "output_type": "stream",
     "text": [
      "0.6635666666666666\n",
      "0.8127000000000001\n",
      "0.8205333333333333\n",
      "0.8659333333333334\n",
      "0.8657666666666667\n",
      "0.8774333333333334\n",
      "0.8657333333333334\n",
      "0.8778666666666666\n",
      "0.8826666666666667\n",
      "0.9005\n"
     ]
    }
   ],
   "source": [
    "\n",
    "data_custom['feature order']\n",
    "top_1=data_custom['feature order'][:1]\n",
    "top_5=data_custom['feature order'][:5]\n",
    "top_10=data_custom['feature order'][:10]\n",
    "top_15=data_custom['feature order'][:15]\n",
    "top_20=data_custom['feature order'][:20]\n",
    "top_30=data_custom['feature order'][:30]\n",
    "top_50=data_custom['feature order'][:50]\n",
    "top_70=data_custom['feature order'][:70]\n",
    "top_100=data_custom['feature order'][:100]\n",
    "\n",
    "\n",
    "custom_acc=[]\n",
    "for i in [top_1,top_5,top_10,top_15,top_20,top_30,top_50,top_70,top_100,top_200]:\n",
    "    X_new=X[:,i]\n",
    "    # 5fold cross validation\n",
    "    acc_corr_loss=[]\n",
    "    \n",
    "    for j in range(500):\n",
    "        X_train, X_test, y_train, y_test = train_test_split(X_new, Y, test_size=0.3, random_state=j)\n",
    "        svc.fit(X_train,y_train)\n",
    "        y_pred=svc.predict(X_test)\n",
    "        acc_corr_loss.append(accuracy_score(y_test,y_pred))\n",
    "    print(np.mean(acc_corr_loss))\n",
    "    custom_acc.append(np.mean(acc_corr_loss))"
   ]
  },
  {
   "cell_type": "code",
   "execution_count": 10,
   "metadata": {},
   "outputs": [
    {
     "data": {
      "text/plain": [
       "[0.6995,\n",
       " 0.7941,\n",
       " 0.8479333333333334,\n",
       " 0.8653666666666668,\n",
       " 0.8738333333333332,\n",
       " 0.8816333333333332,\n",
       " 0.8934666666666666,\n",
       " 0.8947,\n",
       " 0.8949000000000001,\n",
       " 0.9005]"
      ]
     },
     "execution_count": 10,
     "metadata": {},
     "output_type": "execute_result"
    }
   ],
   "source": [
    "origianl_acc"
   ]
  },
  {
   "cell_type": "markdown",
   "metadata": {},
   "source": [
    "## BASELINE\n"
   ]
  },
  {
   "cell_type": "code",
   "execution_count": 13,
   "metadata": {},
   "outputs": [],
   "source": [
    "idxs=np.random.choice(10000,i)"
   ]
  },
  {
   "cell_type": "code",
   "execution_count": 16,
   "metadata": {},
   "outputs": [
    {
     "data": {
      "text/plain": [
       "(200,)"
      ]
     },
     "execution_count": 16,
     "metadata": {},
     "output_type": "execute_result"
    }
   ],
   "source": [
    "idxs.shape"
   ]
  },
  {
   "cell_type": "code",
   "execution_count": 15,
   "metadata": {},
   "outputs": [
    {
     "data": {
      "text/plain": [
       "(140, 10000)"
      ]
     },
     "execution_count": 15,
     "metadata": {},
     "output_type": "execute_result"
    }
   ],
   "source": [
    "X_train.shape"
   ]
  },
  {
   "cell_type": "code",
   "execution_count": 17,
   "metadata": {},
   "outputs": [],
   "source": [
    "# randomly select 1,5,10,15,20,30,50,70,100,200 features from 10000\n",
    "\n",
    "random_acc=[]\n",
    "for i in [1,5,10,15,20,30,50,70,100,200]:\n",
    "    acc_random=[]\n",
    "    for j in range(500):\n",
    "        X_train, X_test, y_train, y_test = train_test_split(X, Y, test_size=0.3, random_state=j)\n",
    "        idxs=np.random.choice(10000,i)\n",
    "        X_new=X_train[:,idxs]\n",
    "        svc.fit(X_new,y_train)\n",
    "        acc_random=svc.score(X_test[:,idxs],y_test)\n",
    "    random_acc.append(np.mean(acc_random))"
   ]
  },
  {
   "cell_type": "code",
   "execution_count": 18,
   "metadata": {},
   "outputs": [
    {
     "data": {
      "text/plain": [
       "<matplotlib.legend.Legend at 0x7fdc6bad5f90>"
      ]
     },
     "execution_count": 18,
     "metadata": {},
     "output_type": "execute_result"
    },
    {
     "data": {
      "image/png": "[encoded data removed]",
      "text/plain": [
       "<Figure size 640x480 with 1 Axes>"
      ]
     },
     "metadata": {},
     "output_type": "display_data"
    }
   ],
   "source": [
    "from matplotlib import pyplot as plt\n",
    "plt.title('Arcene Dataset')\n",
    "plt.plot([1,5,10,15,20,30,50,70,100,200],origianl_acc[:],label='original')\n",
    "plt.plot([1,5,10,15,20,30,50,70,100,200],custom_acc[:],label='custom loss')\n",
    "plt.plot([1,5,10,15,20,30,50,70,100,200],random_acc[:],label='baseline')\n",
    "plt.xlabel('number of selected features')\n",
    "plt.ylabel('accuracy')\n",
    "plt.legend()"
   ]
  }
 ],
 "metadata": {
  "kernelspec": {
   "display_name": ".venv",
   "language": "python",
   "name": "python3"
  },
  "language_info": {
   "codemirror_mode": {
    "name": "ipython",
    "version": 3
   },
   "file_extension": ".py",
   "mimetype": "text/x-python",
   "name": "python",
   "nbconvert_exporter": "python",
   "pygments_lexer": "ipython3",
   "version": "3.10.12"
  }
 },
 "nbformat": 4,
 "nbformat_minor": 2
}
